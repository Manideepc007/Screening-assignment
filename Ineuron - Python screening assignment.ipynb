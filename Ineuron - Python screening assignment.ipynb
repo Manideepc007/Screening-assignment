{
 "cells": [
  {
   "cell_type": "markdown",
   "id": "78bab4d5",
   "metadata": {},
   "source": [
    "1. Create a function in python to read the text file and replace specific content\n",
    "of the file."
   ]
  },
  {
   "cell_type": "markdown",
   "id": "cc99590b",
   "metadata": {},
   "source": [
    "File name ==> example.txt\n",
    "\n",
    "Origin file content `This is a placement assignment`\n",
    "\n",
    "Replace string `Placement` should be replaced by `screening`.\n",
    "\n",
    "Replaced file content `This is a screening assignment`"
   ]
  },
  {
   "cell_type": "code",
   "execution_count": 1,
   "id": "84fc6dc9",
   "metadata": {},
   "outputs": [],
   "source": [
    "def read_replace_file():\n",
    "    \"\"\"\n",
    "        return the entered file in reading mode, replace the entered string with the desired string and\n",
    "        overwrites the existing data and saves new content\n",
    "    \"\"\"\n",
    "    with open(input('Enter the filename: '),'r') as file:\n",
    "        \n",
    "        filedata = file.read()\n",
    "    \n",
    "    filedata = filedata.replace(input('Enter the string to replace: '),input('Enter the new string to replace: '))\n",
    "\n",
    "    with open(input('Enter the name of the file to create: '),'w') as file:\n",
    "        file.write(filedata)"
   ]
  },
  {
   "cell_type": "code",
   "execution_count": 2,
   "id": "2f4cc230",
   "metadata": {},
   "outputs": [
    {
     "name": "stdout",
     "output_type": "stream",
     "text": [
      "Enter the filename: example.txt\n",
      "Enter the string to replace: placement\n",
      "Enter the new string to replace: screening\n",
      "Enter the name of the file to create: 1example.txt\n"
     ]
    }
   ],
   "source": [
    "read_replace_file()"
   ]
  },
  {
   "cell_type": "markdown",
   "id": "ab3cb099",
   "metadata": {},
   "source": [
    "2. Demonstrate use of `abstract class`, `multiple inheritance` and `decorator` in\n",
    "python using **examples**."
   ]
  },
  {
   "cell_type": "markdown",
   "id": "28887c48",
   "metadata": {},
   "source": [
    "### uses of abstract class"
   ]
  },
  {
   "cell_type": "markdown",
   "id": "6dc54217",
   "metadata": {},
   "source": [
    "what is an Abstract Class?\n",
    "\n",
    "An abstract class is not a normal class which we can create objects directly. The main aim of abstract class is to define\n",
    "how other methods and properties expected to have.\n",
    "\n",
    "The methods and properties are defined but not implemented in an abstract class are called abstract methods and abstract\n",
    "properties. They need to implement in a child class in order to be able to create objects from it."
   ]
  },
  {
   "cell_type": "code",
   "execution_count": 3,
   "id": "75ea6ed0",
   "metadata": {},
   "outputs": [],
   "source": [
    "from abc import ABC, abstractmethod\n",
    "\n",
    "class room(ABC):\n",
    "    def __init__(self, name):\n",
    "        self.name = name\n",
    "    \n",
    "    @abstractmethod\n",
    "    def quality(self):\n",
    "        pass\n",
    "        "
   ]
  },
  {
   "cell_type": "markdown",
   "id": "41ebf462",
   "metadata": {},
   "source": [
    "In the above code, we have created a new abstract class called room. We indicate that the method quality is an abstract\n",
    "method by using the decorator abstractmethod, which means we expect this to be implemented in every subclass of room"
   ]
  },
  {
   "cell_type": "code",
   "execution_count": 4,
   "id": "3a95364e",
   "metadata": {},
   "outputs": [
    {
     "data": {
      "text/plain": [
       "Good(name='study', rating=5)"
      ]
     },
     "execution_count": 4,
     "metadata": {},
     "output_type": "execute_result"
    }
   ],
   "source": [
    "from collections import namedtuple\n",
    "\n",
    "amenities = namedtuple('Good',('name','rating'))\n",
    "\n",
    "class dining(room):\n",
    "    def quality(self):\n",
    "        return amenities('study',5)\n",
    "    \n",
    "area = dining('hall')\n",
    "area.quality()"
   ]
  },
  {
   "cell_type": "markdown",
   "id": "2ae3665b",
   "metadata": {},
   "source": [
    "The main purpose was to be used as a blueprint for creating other classes. So that everyone needs to inherit from to create new class\n",
    "\n",
    "It will also avoids duplication of code, ensure consistency for others to implement subclasses."
   ]
  },
  {
   "cell_type": "markdown",
   "id": "15d28b9a",
   "metadata": {},
   "source": [
    "### uses of multiple inheritance"
   ]
  },
  {
   "cell_type": "markdown",
   "id": "b33d411e",
   "metadata": {},
   "source": [
    "By using Multiple inheritance, all the features in base classes are inherited into the derived class."
   ]
  },
  {
   "cell_type": "code",
   "execution_count": 5,
   "id": "e380286b",
   "metadata": {},
   "outputs": [
    {
     "name": "stdout",
     "output_type": "stream",
     "text": [
      "Hr class\n",
      "dev class\n"
     ]
    }
   ],
   "source": [
    "class Hr:\n",
    "    def a(self):\n",
    "        print('Hr class')\n",
    "        \n",
    "class Dss(Hr):\n",
    "    def b(self):\n",
    "        print('Dss class')\n",
    "        \n",
    "class dev(Hr):\n",
    "    def c(self):\n",
    "        print('dev class')\n",
    "        \n",
    "obj = dev()\n",
    "obj.a()\n",
    "obj.c()"
   ]
  },
  {
   "cell_type": "markdown",
   "id": "fa5af698",
   "metadata": {},
   "source": [
    "### uses of decorator"
   ]
  },
  {
   "cell_type": "markdown",
   "id": "2513a49b",
   "metadata": {},
   "source": [
    "A decorator in Python is used to modify the behavior of a function without actually changing it."
   ]
  },
  {
   "cell_type": "code",
   "execution_count": 6,
   "id": "98c6a67f",
   "metadata": {},
   "outputs": [
    {
     "name": "stdout",
     "output_type": "stream",
     "text": [
      "This is printed before the function is called\n",
      "Hello! The function is executing\n",
      "This is printed after the function is called\n"
     ]
    }
   ],
   "source": [
    "def decorator(func):\n",
    "    def inside_function():\n",
    "        print(\"This is printed before the function is called\")\n",
    "        func()\n",
    "        print(\"This is printed after the function is called\")\n",
    "  \n",
    "    return inside_function\n",
    "\n",
    "def say_hello():\n",
    "    print(\"Hello! The function is executing\")\n",
    "\n",
    "\n",
    "say_hello = decorator(say_hello)\n",
    "\n",
    "say_hello()"
   ]
  },
  {
   "cell_type": "code",
   "execution_count": null,
   "id": "0a6c2458",
   "metadata": {},
   "outputs": [],
   "source": []
  }
 ],
 "metadata": {
  "kernelspec": {
   "display_name": "Python 3 (ipykernel)",
   "language": "python",
   "name": "python3"
  },
  "language_info": {
   "codemirror_mode": {
    "name": "ipython",
    "version": 3
   },
   "file_extension": ".py",
   "mimetype": "text/x-python",
   "name": "python",
   "nbconvert_exporter": "python",
   "pygments_lexer": "ipython3",
   "version": "3.9.7"
  }
 },
 "nbformat": 4,
 "nbformat_minor": 5
}
